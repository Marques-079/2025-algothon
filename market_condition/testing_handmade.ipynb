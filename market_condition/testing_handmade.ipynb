{
 "cells": [
  {
   "cell_type": "code",
   "execution_count": null,
   "id": "0",
   "metadata": {},
   "outputs": [],
   "source": [
    "def intify(arr):\n",
    "    return [int(a) for a in arr]"
   ]
  },
  {
   "cell_type": "code",
   "execution_count": null,
   "id": "1",
   "metadata": {},
   "outputs": [],
   "source": [
    "import pickle\n",
    "\n",
    "with open(\"../all_regimes.pkl\", \"rb\") as f:\n",
    "    ground_truth = pickle.load(f)\n",
    "ground_truth = [intify(arr) for arr in ground_truth]\n",
    "\n",
    "\n",
    "with open(\"../all_regimes_handmade.pkl\", \"rb\") as f:\n",
    "    hm_model = pickle.load(f)"
   ]
  },
  {
   "cell_type": "code",
   "execution_count": null,
   "id": "2",
   "metadata": {},
   "outputs": [],
   "source": [
    "total_checked = 0\n",
    "correct= 0\n",
    "for inst in range(50):\n",
    "    for i in range(740):\n",
    "        if not ground_truth[inst][i] or not hm_model[inst][i]:\n",
    "            continue\n",
    "\n",
    "        if ground_truth[inst][i] == hm_model[inst][i] + 1 or (ground_truth[inst][i] == 0 and -1 == hm_model[inst][i]) or hm_model[inst][i] == 0:\n",
    "            correct += 1\n",
    "        total_checked += 1\n",
    "\n",
    "print(total_checked, correct)\n",
    "print(correct/total_checked)\n"
   ]
  }
 ],
 "metadata": {
  "kernelspec": {
   "display_name": ".venv",
   "language": "python",
   "name": "python3"
  },
  "language_info": {
   "codemirror_mode": {
    "name": "ipython",
    "version": 3
   },
   "file_extension": ".py",
   "mimetype": "text/x-python",
   "name": "python",
   "nbconvert_exporter": "python",
   "pygments_lexer": "ipython3",
   "version": "3.13.1"
  }
 },
 "nbformat": 4,
 "nbformat_minor": 5
}
