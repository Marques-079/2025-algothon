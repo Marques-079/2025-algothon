{
 "cells": [
  {
   "cell_type": "code",
   "execution_count": 1,
   "id": "0fdd3bfe",
   "metadata": {},
   "outputs": [
    {
     "name": "stdout",
     "output_type": "stream",
     "text": [
      "Manual Pearson Correlation: -0.4657\n",
      "NumPy Pearson Correlation : -0.4657\n"
     ]
    }
   ],
   "source": [
    "import numpy as np\n",
    "\n",
    "# ------------------------------\n",
    "# Example Inputs: Closing prices\n",
    "# ------------------------------\n",
    "# These should be aligned and cleaned already\n",
    "prices_A = np.array([100, 101, 102, 103, 105, 104, 106])\n",
    "prices_B = np.array([200, 198, 199, 202, 201, 205, 208])\n",
    "\n",
    "# -------------------------------------\n",
    "# Step 1: Convert to log returns\n",
    "# -------------------------------------\n",
    "# Formula: log(P_t) - log(P_{t-1})\n",
    "log_returns_A = np.diff(np.log(prices_A))\n",
    "log_returns_B = np.diff(np.log(prices_B))\n",
    "\n",
    "# Both return arrays are now of length len(prices) - 1\n",
    "assert len(log_returns_A) == len(log_returns_B), \"Return arrays must be equal length\"\n",
    "\n",
    "# -------------------------------------\n",
    "# Step 2: Compute Pearson Correlation\n",
    "# -------------------------------------\n",
    "# Manual computation\n",
    "mean_A = np.mean(log_returns_A)\n",
    "mean_B = np.mean(log_returns_B)\n",
    "\n",
    "covariance = np.mean((log_returns_A - mean_A) * (log_returns_B - mean_B))\n",
    "std_A = np.std(log_returns_A)\n",
    "std_B = np.std(log_returns_B)\n",
    "\n",
    "pearson_correlation = covariance / (std_A * std_B)\n",
    "\n",
    "# Or, using NumPy's built-in method:\n",
    "pearson_np = np.corrcoef(log_returns_A, log_returns_B)[0, 1]\n",
    "\n",
    "# -------------------------------------\n",
    "# Output\n",
    "# -------------------------------------\n",
    "print(\"Manual Pearson Correlation:\", round(pearson_correlation, 4))\n",
    "print(\"NumPy Pearson Correlation :\", round(pearson_np, 4))"
   ]
  }
 ],
 "metadata": {
  "kernelspec": {
   "display_name": ".venv",
   "language": "python",
   "name": "python3"
  },
  "language_info": {
   "codemirror_mode": {
    "name": "ipython",
    "version": 3
   },
   "file_extension": ".py",
   "mimetype": "text/x-python",
   "name": "python",
   "nbconvert_exporter": "python",
   "pygments_lexer": "ipython3",
   "version": "3.12.0"
  }
 },
 "nbformat": 4,
 "nbformat_minor": 5
}
