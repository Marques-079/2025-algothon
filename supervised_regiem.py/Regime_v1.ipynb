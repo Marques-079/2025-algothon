{
 "cells": [
  {
   "cell_type": "code",
   "execution_count": null,
   "id": "0",
   "metadata": {},
   "outputs": [],
   "source": [
    "from pre_proc_labelling_long import plot_all_regimes_long"
   ]
  },
  {
   "cell_type": "code",
   "execution_count": null,
   "id": "1",
   "metadata": {},
   "outputs": [],
   "source": [
    "#0 indicates bearmarket, 2 indicates bull market.\n",
    "\n",
    "count = 0\n",
    "for i in range(50):\n",
    "    labels = plot_all_regimes_long(500, False, i)\n",
    "    for j in labels:\n",
    "        if j == 1:\n",
    "            count += 1\n",
    "        else:\n",
    "            pass\n",
    "print(f\"Count of label 1: {count}\")"
   ]
  },
  {
   "cell_type": "code",
   "execution_count": null,
   "id": "2",
   "metadata": {},
   "outputs": [],
   "source": [
    "df = plot_all_regimes_long(750, False)"
   ]
  },
  {
   "cell_type": "code",
   "execution_count": 6,
   "id": "403bcc55",
   "metadata": {},
   "outputs": [],
   "source": [
    "auto_labeller_regimes = list()\n",
    "for i in range(50):\n",
    "    auto_labeller_regimes.append(list(plot_all_regimes_long(750, False, i)))"
   ]
  },
  {
   "cell_type": "code",
   "execution_count": null,
   "id": "31273e91",
   "metadata": {},
   "outputs": [],
   "source": [
    "import pickle\n",
    "\n",
    "# Save everything to a file\n",
    "with open(\"mean_reversion_params.pkl\", \"wb\") as f:\n",
    "    pickle.dump({\n",
    "        \"beta_matrix\": beta_matrix,\n",
    "        \"alpha_matrix\": alpha_matrix,\n",
    "        \"pairs\": keeping\n",
    "    }, f)"
   ]
  }
 ],
 "metadata": {
  "kernelspec": {
   "display_name": ".venv",
   "language": "python",
   "name": "python3"
  },
  "language_info": {
   "codemirror_mode": {
    "name": "ipython",
    "version": 3
   },
   "file_extension": ".py",
   "mimetype": "text/x-python",
   "name": "python",
   "nbconvert_exporter": "python",
   "pygments_lexer": "ipython3",
   "version": "3.13.1"
  }
 },
 "nbformat": 4,
 "nbformat_minor": 5
}
