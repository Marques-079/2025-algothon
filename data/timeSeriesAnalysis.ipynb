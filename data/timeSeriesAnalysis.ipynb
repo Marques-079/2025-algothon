{
 "cells": [
  {
   "cell_type": "code",
   "execution_count": null,
   "id": "e6fc3b67",
   "metadata": {},
   "outputs": [],
   "source": [
    "import pandas as pd\n",
    "import numpy as np\n",
    "import matplotlib.pyplot as plt\n",
    "\n",
    "fn=\"../prices.txt\"\n",
    "df=pd.read_csv(fn, sep='\\s+', header=None, index_col=None)\n",
    "prices = (df.values).T\n",
    "\n",
    "nInst ,T = 50,750"
   ]
  }
 ],
 "metadata": {
  "language_info": {
   "name": "python"
  }
 },
 "nbformat": 4,
 "nbformat_minor": 5
}
