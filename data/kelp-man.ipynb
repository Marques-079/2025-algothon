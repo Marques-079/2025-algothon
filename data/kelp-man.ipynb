{
 "cells": [
  {
   "cell_type": "code",
   "execution_count": null,
   "id": "07ee36ef",
   "metadata": {},
   "outputs": [],
   "source": [
    "import numpy as np\n",
    "import matplotlib.pyplot as plt\n",
    "\n",
    "# Simulate a 1D system: constant velocity + noise\n",
    "np.random.seed(0)\n",
    "n = 50\n",
    "true_value = np.linspace(0, 10, n)\n",
    "velocity = 0.2\n",
    "true_state = true_value + velocity * np.arange(n)\n",
    "measurements = true_state + np.random.normal(0, 1.0, size=n)  # Noisy measurements\n",
    "\n",
    "# Kalman filter setup\n",
    "x = 0.0           # initial estimate\n",
    "v = 0.0           # initial velocity\n",
    "P = 1.0           # initial uncertainty\n",
    "Q = 0.01          # process noise (model uncertainty)\n",
    "R = 1.0           # measurement noise\n",
    "A = 1.0           # state transition (no change to state, just incremented by v)\n",
    "H = 1.0           # measurement matrix\n",
    "x_estimates = []\n",
    "\n",
    "for z in measurements:\n",
    "    # Predict step\n",
    "    x = x + v               # predict next state\n",
    "    P = P + Q               # update uncertainty\n",
    "\n",
    "    # Update step\n",
    "    K = P / (P + R)         # Kalman gain\n",
    "    x = x + K * (z - x)     # update estimate\n",
    "    P = (1 - K) * P         # update uncertainty\n",
    "\n",
    "    x_estimates.append(x)\n",
    "\n",
    "# Forecast future steps\n",
    "future_steps = 10\n",
    "forecast = [x + v * i for i in range(1, future_steps + 1)]\n",
    "\n",
    "# Plotting\n",
    "plt.figure(figsize=(10, 5))\n",
    "plt.plot(true_state, label='True Value', linestyle='--')\n",
    "plt.plot(measurements, label='Noisy Measurements', alpha=0.5)\n",
    "plt.plot(x_estimates, label='Kalman Estimate', linewidth=2)\n",
    "plt.plot(np.arange(n, n+future_steps), forecast, label='Forecast', linestyle=':', linewidth=2)\n",
    "plt.legend()\n",
    "plt.title(\"Kalman Filter Forecasting\")\n",
    "plt.xlabel(\"Time Step\")\n",
    "plt.ylabel(\"Value\")\n",
    "plt.grid(True)\n",
    "plt.show()\n"
   ]
  }
 ],
 "metadata": {
  "language_info": {
   "name": "python"
  }
 },
 "nbformat": 4,
 "nbformat_minor": 5
}
