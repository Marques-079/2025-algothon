{
 "cells": [
  {
   "cell_type": "code",
   "execution_count": null,
   "id": "4871fdab",
   "metadata": {},
   "outputs": [
    {
     "name": "stdout",
     "output_type": "stream",
     "text": [
      "[[38.25 38.11 37.9  ... 36.58 36.43 36.24]\n",
      " [69.06 69.98 69.56 ... 50.8  51.19 50.64]\n",
      " [62.08 62.39 62.82 ... 44.25 44.02 43.43]\n",
      " ...\n",
      " [24.02 24.04 23.76 ... 15.81 15.75 15.74]\n",
      " [76.03 76.05 75.66 ... 80.93 80.8  80.5 ]\n",
      " [27.5  27.54 27.55 ... 31.83 31.78 31.59]]\n"
     ]
    }
   ],
   "source": [
    "import pandas as pd\n",
    "\n",
    "\n",
    "def loadPrices():\n",
    "    fn=\"../prices.txt\"\n",
    "    global nt, nInst\n",
    "    df=pd.read_csv(fn, sep='\\s+', header=None, index_col=None)\n",
    "    return (df.values).T\n",
    "\n",
    "prices = loadPrices()\n"
   ]
  },
  {
   "cell_type": "code",
   "execution_count": null,
   "id": "696dd17a",
   "metadata": {},
   "outputs": [],
   "source": []
  },
  {
   "cell_type": "code",
   "execution_count": null,
   "id": "126dfd2c",
   "metadata": {},
   "outputs": [],
   "source": []
  },
  {
   "cell_type": "code",
   "execution_count": null,
   "id": "fca4fbf2",
   "metadata": {},
   "outputs": [],
   "source": []
  },
  {
   "cell_type": "code",
   "execution_count": null,
   "id": "130612b1",
   "metadata": {},
   "outputs": [],
   "source": []
  }
 ],
 "metadata": {
  "kernelspec": {
   "display_name": "tf",
   "language": "python",
   "name": "python3"
  },
  "language_info": {
   "codemirror_mode": {
    "name": "ipython",
    "version": 3
   },
   "file_extension": ".py",
   "mimetype": "text/x-python",
   "name": "python",
   "nbconvert_exporter": "python",
   "pygments_lexer": "ipython3",
   "version": "3.11.6"
  }
 },
 "nbformat": 4,
 "nbformat_minor": 5
}
