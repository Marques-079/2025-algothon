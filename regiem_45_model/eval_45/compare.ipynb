{
 "cells": [
  {
   "cell_type": "code",
   "execution_count": null,
   "id": "0",
   "metadata": {},
   "outputs": [],
   "source": [
    "import sys\n",
    "from pathlib import Path\n",
    "\n",
    "# assume this notebook lives in regiem_45_model/eval_45/\n",
    "PROJECT_ROOT = Path().resolve().parent.parent  # two levels up\n",
    "sys.path.insert(0, str(PROJECT_ROOT))\n",
    "\n",
    "# now Python will find regiem_45_model as a top-level package\n",
    "from regiem_45_model.pre_proc_labelling_long import plot_all_regimes_long\n",
    "\n",
    "import pandas as pd\n",
    "from pathlib import Path\n",
    "import numpy as np\n",
    "\n",
    "'''\n",
    "python -m regiem_45_model.eval_45.compare\n",
    "'''\n",
    "\n",
    "df = pd.read_csv(\"predictions.csv\", index_col=0)\n",
    "\n",
    "inferenced = df.to_numpy()\n",
    "print(type(inferenced), inferenced.shape)\n",
    "\n",
    "#Need to slice off front 159 from this.\n",
    "\n",
    "labels_list = []\n",
    "for i in range(50):\n",
    "    print(f\"Processing graph #{i+1}/50\")           \n",
    "    one_d = plot_all_regimes_long(750, False, i)\n",
    "    labels_list.append(one_d)\n",
    "\n",
    "labels2d = np.vstack(labels_list)\n",
    "print(\"Final shape:\", labels2d.shape) \n",
    "\n",
    "\n",
    "inferenced_cut = inferenced[:, :-9]\n",
    "\n",
    "inferenced_cut = np.where(inferenced_cut > 0.5, 2, 0) #If val > 0.5 then Bear, else Bull\n",
    "auto_labels_cut     = labels2d[:, 159:]\n",
    "\n",
    "print(f\"inferenced: {inferenced.shape} → {inferenced_cut.shape}\")\n",
    "print(f\"labels2d:   {labels2d.shape}   → {auto_labels_cut.shape}\")\n",
    "\n",
    "\n",
    "\n",
    "\n",
    "\n"
   ]
  },
  {
   "cell_type": "code",
   "execution_count": null,
   "id": "1",
   "metadata": {},
   "outputs": [],
   "source": []
  }
 ],
 "metadata": {
  "kernelspec": {
   "display_name": ".venv",
   "language": "python",
   "name": "python3"
  },
  "language_info": {
   "codemirror_mode": {
    "name": "ipython",
    "version": 3
   },
   "file_extension": ".py",
   "mimetype": "text/x-python",
   "name": "python",
   "nbconvert_exporter": "python",
   "pygments_lexer": "ipython3",
   "version": "3.13.1"
  }
 },
 "nbformat": 4,
 "nbformat_minor": 5
}
