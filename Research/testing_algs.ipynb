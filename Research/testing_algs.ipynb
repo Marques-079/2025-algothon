{
 "cells": [
  {
   "cell_type": "code",
   "execution_count": null,
   "id": "92f51148",
   "metadata": {},
   "outputs": [],
   "source": [
    "import numpy as np\n",
    "import pickle\n",
    "import matplotlib.pyplot as plt\n",
    "import pandas as pd\n",
    "\n",
    "import sys\n",
    "import os\n",
    "\n",
    "sys.path.append(os.path.abspath(os.path.join(os.path.dirname(os.getcwd()), '..', 'Model', 'Dev', 'MeanReversion')))\n",
    "from MeanReversionAlg import MeanReversionTrader  # your module"
   ]
  },
  {
   "cell_type": "code",
   "execution_count": null,
   "id": "b3cf69a8",
   "metadata": {},
   "outputs": [],
   "source": [
    "\n",
    "def loadPrices(fn):\n",
    "    global nt, nInst\n",
    "    df=pd.read_csv(fn, sep=r'\\s+', header=None, index_col=None)\n",
    "    (nt,nInst) = df.shape\n",
    "    return (df.values).T\n",
    "\n",
    "pricesFile=\"prices.txt\"\n",
    "prcAll = loadPrices(pricesFile)\n",
    "\n",
    "prcTrain = prcAll[:, :450]\n",
    "prcTestOnly= prcAll[:, 450:600]\n",
    "prcTest= prcAll[:, :600]\n",
    "prcValOnly= prcAll[:, 600:]\n",
    "prcVal= prcAll[:, :]"
   ]
  },
  {
   "cell_type": "code",
   "execution_count": null,
   "id": "2eaf3c22",
   "metadata": {},
   "outputs": [],
   "source": [
    "\n",
    "with open(\"market_condition/mean_reversion_params.pkl\", \"rb\") as f:\n",
    "    data = pickle.load(f)\n",
    "\n",
    "beta_matrix = data[\"beta_matrix\"]\n",
    "alpha_matrix = data[\"alpha_matrix\"]\n",
    "pairs = data[\"pairs\"]\n",
    "if __name__ == \"__main__\":\n",
    "    print(pairs)"
   ]
  },
  {
   "cell_type": "code",
   "execution_count": null,
   "id": "86dedecd",
   "metadata": {},
   "outputs": [],
   "source": [
    "# --- Step 3: Run trader with ONE pair for now ---\n",
    "num = 5\n",
    "trader = MeanReversionTrader(pairs=[pairs[num]], beta_matrix=beta_matrix, alpha_matrix=alpha_matrix)\n",
    "\n",
    "# Run simulation\n",
    "trader.run(prcTrain)\n",
    "\n",
    "# --- Step 4: Analyze Results ---\n",
    "# Show trade log\n",
    "log = trader.get_trade_log()\n",
    "print(log)\n",
    "\n",
    "# Plot the spread z-score evolution\n",
    "# trader.plot_spread()\n",
    "trader.plot_spread()"
   ]
  },
  {
   "cell_type": "code",
   "execution_count": null,
   "id": "2581f54b",
   "metadata": {},
   "outputs": [],
   "source": [
    "completed_trades = log[log[\"Action\"] == \"Exit\"].copy()\n",
    "\n",
    "# Clean the Return column if it’s a string with \"%\"\n",
    "completed_trades[\"Return\"] = completed_trades[\"Return\"].str.replace('%', '').astype(float)\n",
    "\n",
    "# Compute mean return %\n",
    "mean_return = completed_trades[\"Return\"].mean()\n",
    "\n",
    "print(f\"Mean Return per Trade: {mean_return:.2f}%\")\n"
   ]
  },
  {
   "cell_type": "code",
   "execution_count": null,
   "id": "ea9c43e6",
   "metadata": {},
   "outputs": [],
   "source": [
    "completed_trades = log[log[\"Action\"] == \"Exit\"].copy()\n",
    "\n",
    "# Clean if stored as percentage strings (optional safeguard)\n",
    "if completed_trades[\"Return\"].dtype == object:\n",
    "    completed_trades[\"Return\"] = completed_trades[\"Return\"].str.replace('%', '').astype(float)\n",
    "\n",
    "total_trades = len(completed_trades)\n",
    "wins = (completed_trades[\"Return\"] > 0).sum()\n",
    "win_rate = wins / total_trades if total_trades > 0 else np.nan\n",
    "\n",
    "print(f\"Total Trades: {total_trades}\")\n",
    "print(f\"Wins: {wins}\")\n",
    "print(f\"Win Rate: {win_rate:.2%}\")"
   ]
  },
  {
   "cell_type": "code",
   "execution_count": null,
   "id": "d8ec74e0",
   "metadata": {},
   "outputs": [],
   "source": [
    "def compute_trade_durations(log):\n",
    "    \"\"\"\n",
    "    Computes duration stats of completed trades from the log.\n",
    "\n",
    "    Returns:\n",
    "        - durations (list of int)\n",
    "        - mean duration\n",
    "        - std deviation of duration\n",
    "    \"\"\"\n",
    "    entries = log[log[\"Action\"].str.startswith(\"Enter\")].copy()\n",
    "    exits = log[log[\"Action\"] == \"Exit\"].copy()\n",
    "\n",
    "    durations = []\n",
    "\n",
    "    # Match entry and exit by asset pair\n",
    "    for _, entry_row in entries.iterrows():\n",
    "        day_entry = entry_row[\"Day\"]\n",
    "        a, b = entry_row[\"Asset A\"], entry_row[\"Asset B\"]\n",
    "\n",
    "        # Find the first matching exit after this entry\n",
    "        exit_match = exits[(exits[\"Asset A\"] == a) & (exits[\"Asset B\"] == b) & (exits[\"Day\"] > day_entry)]\n",
    "        if not exit_match.empty:\n",
    "            day_exit = exit_match.iloc[0][\"Day\"]\n",
    "            durations.append(day_exit - day_entry)\n",
    "\n",
    "    if durations:\n",
    "        durations = np.array(durations)\n",
    "        mean_duration = durations.mean()\n",
    "        std_duration = durations.std()\n",
    "        print(f\"Mean Trade Duration: {mean_duration:.2f} days\")\n",
    "        print(f\"Std Dev of Trade Duration: {std_duration:.2f} days\")\n",
    "    else:\n",
    "        mean_duration = std_duration = np.nan\n",
    "        print(\"No completed trades to compute durations.\")\n",
    "\n",
    "    return durations, mean_duration, std_duration\n",
    "durations, mean_duration, std_duration = compute_trade_durations(log)"
   ]
  }
 ],
 "metadata": {
  "kernelspec": {
   "display_name": ".venv",
   "language": "python",
   "name": "python3"
  },
  "language_info": {
   "codemirror_mode": {
    "name": "ipython",
    "version": 3
   },
   "file_extension": ".py",
   "mimetype": "text/x-python",
   "name": "python",
   "nbconvert_exporter": "python",
   "pygments_lexer": "ipython3",
   "version": "3.12.0"
  }
 },
 "nbformat": 4,
 "nbformat_minor": 5
}
