{
 "cells": [
  {
   "cell_type": "code",
   "execution_count": null,
   "id": "82848aa4",
   "metadata": {},
   "outputs": [],
   "source": [
    "import numpy as np\n",
    "import matplotlib.pyplot as plt\n",
    "import pandas as pd\n",
    "from sklearn.linear_model import LinearRegression\n",
    "from sklearn.metrics import mean_squared_error, r2_score\n",
    "\n",
    "def loadPrices(fn):\n",
    "    global nt, nInst\n",
    "    df = pd.read_csv(fn, sep='\\s+', header=None, index_col=None)\n",
    "    return df"
   ]
  },
  {
   "cell_type": "markdown",
   "id": "d03fb19f",
   "metadata": {},
   "source": [
    "# Fourier regression visualization"
   ]
  },
  {
   "cell_type": "code",
   "execution_count": null,
   "id": "7b172c6d",
   "metadata": {},
   "outputs": [],
   "source": [
    "# Sett\n",
    "# Target instrument \n",
    "tInst = 29\n",
    "period = 2* np.pi\n",
    "terms = 1000"
   ]
  },
  {
   "cell_type": "code",
   "execution_count": null,
   "id": "2d4b4ae3",
   "metadata": {},
   "outputs": [],
   "source": [
    "# Load and select instrument\n",
    "prices = loadPrices(\"../prices.txt\")\n",
    "focus_length = 750\n",
    "instrument = prices[tInst][:focus_length]  # limit to 750 samples if larger\n",
    "\n",
    "# Generate time variable and target\n",
    "t = np.linspace(1, focus_length, focus_length)\n",
    "y = instrument.to_numpy()\n",
    "\n",
    "# Fourier + Polynomial Feature Generator\n",
    "def make_fourier(t, T, K):\n",
    "    features = [np.ones_like(t)]  # bias term\n",
    "    # Fourier terms\n",
    "    for k in range(1, K + 1):\n",
    "        features.append(np.sin(2*np.pi*k*t/T))\n",
    "        features.append(np.cos(2*np.pi*k*t/T))\n",
    "    return np.column_stack(features)\n",
    "\n",
    "# Params\n",
    "T = period\n",
    "K = terms\n",
    "\n",
    "#Split data into train/test\n",
    "window = (0,300)\n",
    "t_train = t[window[0]:window[1]]\n",
    "y_train = y[window[0]:window[1]]\n",
    "X_train = make_fourier(t_train, T, K)\n",
    "\n",
    "t_test = t[window[1]:]\n",
    "y_test = y[window[1]:]\n",
    "X_test = make_fourier(t_test, T, K)\n",
    "\n",
    "# Fit on training data\n",
    "model = LinearRegression()\n",
    "model.fit(X_train, y_train)\n",
    "\n",
    "# Predict\n",
    "y_train_pred = model.predict(X_train)\n",
    "y_test_pred = model.predict(X_test)\n",
    "\n",
    "# Evaluate\n",
    "train_mse = mean_squared_error(y_train, y_train_pred)\n",
    "test_mse = mean_squared_error(y_test, y_test_pred)\n",
    "train_r2 = r2_score(y_train, y_train_pred)\n",
    "test_r2 = r2_score(y_test, y_test_pred)\n",
    "\n",
    "print(f\"Train MSE: {train_mse:.4f}, R²: {train_r2:.4f}\")\n",
    "print(f\"Test MSE:  {test_mse:.4f}, R²: {test_r2:.4f}\")\n",
    "\n",
    "# Plot predictions\n",
    "plt.figure(figsize=(12,5))\n",
    "plt.plot(t, y, label='True', linewidth=1)\n",
    "plt.plot(t_train, y_train_pred, label='Train Pred', linestyle='--', color='blue')\n",
    "plt.plot(t_test, y_test_pred, label='Test Pred', linestyle='--', color='orange')\n",
    "plt.axvline(t[window[1]], linestyle=':', color='black', label='Train/Test Split')\n",
    "plt.title(\"Fourier + Polynomial Regression with Train/Test Split\")\n",
    "plt.legend()\n",
    "plt.tight_layout()\n",
    "plt.show()"
   ]
  }
 ],
 "metadata": {
  "kernelspec": {
   "display_name": "tf",
   "language": "python",
   "name": "python3"
  },
  "language_info": {
   "codemirror_mode": {
    "name": "ipython",
    "version": 3
   },
   "file_extension": ".py",
   "mimetype": "text/x-python",
   "name": "python",
   "nbconvert_exporter": "python",
   "pygments_lexer": "ipython3",
   "version": "3.11.6"
  }
 },
 "nbformat": 4,
 "nbformat_minor": 5
}
