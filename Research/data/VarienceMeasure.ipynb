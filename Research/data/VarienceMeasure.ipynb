{
 "cells": [
  {
   "cell_type": "code",
   "execution_count": null,
   "id": "c575004d",
   "metadata": {},
   "outputs": [],
   "source": [
    "import pandas as pd\n",
    "import numpy as np\n",
    "import matplotlib.pyplot as plt\n",
    "\n",
    "fn=\"../prices.txt\"\n",
    "df=pd.read_csv(fn, sep='\\s+', header=None, index_col=None)\n",
    "prices = (df.values).T\n",
    "\n",
    "nInst ,T = 50,750"
   ]
  },
  {
   "cell_type": "code",
   "execution_count": null,
   "id": "87b28bd4",
   "metadata": {},
   "outputs": [],
   "source": [
    "kern_length = 10\n",
    "kernel = np.ones(kern_length)\n",
    "\n",
    "Tl = T-kern_length+1\n",
    "KernPad = kern_length//2\n",
    "# Rolling mean\n",
    "rolling_mean = np.zeros((nInst,Tl))\n",
    "for i in range(nInst):\n",
    "    conv = np.convolve(prices[i,:], kernel, mode='valid')  # or 'same', 'full'\n",
    "    rolling_mean[i,:] = conv /kern_length\n",
    "\n",
    "# Rolling std\n",
    "rolling_std = np.zeros((nInst,Tl))\n",
    "for i in range(nInst):\n",
    "    for j in range(Tl):\n",
    "        window = prices[i,j:j+kern_length]\n",
    "        rolling_std[i,j] = window.std()\n",
    "\n",
    "# Rolling Z score\n",
    "rolling_z = np.zeros(( nInst,Tl ))\n",
    "for i in range(nInst):\n",
    "    x = prices[i,KernPad:-KernPad+1]\n",
    "    diff = x-rolling_mean[i,:]\n",
    "    z = diff/rolling_std[i,:]\n",
    "    rolling_z[i,:] = z\n",
    "    \n",
    "meanmean = np.zeros((nInst,Tl))\n",
    "meanstd = np.zeros((nInst,Tl))\n",
    "\n",
    "for i in range(nInst):\n",
    "    for t in range(2,Tl):\n",
    "        meanmean[i,t]=rolling_mean[i,:t].mean()\n",
    "        meanstd[i,t]=rolling_std[i,:t].mean()\n",
    "\n",
    "colors = np.random.rand(nInst, 3)\n",
    "f,ax = plt.subplots(figsize=(30,15))\n",
    "ax.set_xlabel(\"Mean mean \")\n",
    "ax.set_ylabel(\"Std mean\")\n",
    "tt = Tl\n",
    "for i in range(50):\n",
    "    ax.plot(meanmean[i,2:tt], meanstd[i,2:tt],alpha=0.3,color=colors[i])\n",
    "    lastMean = meanmean[i,:tt][-1]\n",
    "    lastStd = meanstd[i,:tt][-1]\n",
    "    ax.plot(lastMean,lastStd,\"o\",label=str(i),color=colors[i])\n",
    "    ax.text(lastMean,lastStd,str(i))\n",
    "plt.legend()\n",
    "plt.show()\n"
   ]
  },
  {
   "cell_type": "code",
   "execution_count": null,
   "id": "4494b0e3",
   "metadata": {},
   "outputs": [],
   "source": []
  }
 ],
 "metadata": {
  "kernelspec": {
   "display_name": "tf",
   "language": "python",
   "name": "python3"
  },
  "language_info": {
   "codemirror_mode": {
    "name": "ipython",
    "version": 3
   },
   "file_extension": ".py",
   "mimetype": "text/x-python",
   "name": "python",
   "nbconvert_exporter": "python",
   "pygments_lexer": "ipython3",
   "version": "3.11.6"
  }
 },
 "nbformat": 4,
 "nbformat_minor": 5
}
