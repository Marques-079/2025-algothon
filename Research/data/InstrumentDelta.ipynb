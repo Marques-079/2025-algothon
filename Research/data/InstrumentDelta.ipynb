{
 "cells": [
  {
   "cell_type": "code",
   "execution_count": null,
   "id": "4871fdab",
   "metadata": {},
   "outputs": [],
   "source": [
    "import pandas as pd\n",
    "import numpy as np\n",
    "import matplotlib.pyplot as plt\n",
    "from matplotlib.animation import FuncAnimation\n",
    "\n",
    "fn=\"../prices.txt\"\n",
    "df=pd.read_csv(fn, sep='\\s+', header=None, index_col=None)\n",
    "prices = (df.values).T\n",
    "\n",
    "nInst ,T = 50,750"
   ]
  },
  {
   "cell_type": "markdown",
   "id": "1efaea7c",
   "metadata": {},
   "source": [
    "**Per instrument delta split**\n",
    "\n",
    "Net gain vs Net loss plot\n",
    "\n",
    "Percentage doesnt really mean anything here, \n",
    "Its really measuring how many day to day changes are positive and how many are negative\n",
    "but scaled by ther pecentage differnce so really large growth or really large drops would be overshadowed by instruments\n",
    "that grow frequently but very little."
   ]
  },
  {
   "cell_type": "code",
   "execution_count": null,
   "id": "696dd17a",
   "metadata": {},
   "outputs": [],
   "source": [
    "# Precompute the entire trajectory for each instrument\n",
    "netPos = np.zeros((nInst, T))\n",
    "netNeg = np.zeros((nInst, T))\n",
    "\n",
    "for t in range(2,T):\n",
    "    pdiff = np.zeros((nInst,t))\n",
    "    for i in range(nInst):\n",
    "        current = prices[i,:t]\n",
    "        previous = np.zeros((t,))\n",
    "        previous[0] = 1e-8\n",
    "        previous[1:] = current[:-1]\n",
    "        delta = current-previous\n",
    "        percent_delta = 100* delta / previous\n",
    "        percent_delta[0] = 0\n",
    "        pdiff[i,:] = percent_delta\n",
    "    posDelta = np.where(pdiff > 0,pdiff,0)\n",
    "    negDelta = np.where(pdiff < 0,-pdiff,0)\n",
    "\n",
    "    netPos[:,t] = posDelta.sum(axis=1)\n",
    "    netNeg[:,t] = negDelta.sum(axis=1)\n",
    "\n",
    "colors = np.random.rand(nInst, 3)\n",
    "def plotSplit():\n",
    "    f,ax = plt.subplots(figsize=(15,20))\n",
    "    ax.set_xlabel(\"Net ( gain % )\")\n",
    "    ax.set_ylabel(\"Net ( loss % )\")\n",
    "    # for i,p in enumerate(zip(netPos,netNeg)):\n",
    "    #     ax.plot(p[0],p[1],\"o\",label=str(i))\n",
    "    #     ax.text(p[0],p[1],str(i))\n",
    "    for i in range(nInst):\n",
    "        ax.plot(netPos[i], netNeg[i],alpha=0.3,color=colors[i])\n",
    "        lastPos = netPos[i][-1]\n",
    "        lastNeg = netNeg[i][-1]\n",
    "        ax.plot(lastPos,lastNeg,\"o\",label=str(i),color=colors[i])\n",
    "        ax.text(lastPos,lastNeg,str(i))\n",
    "    ax.plot([0,500],[0,500])\n",
    "    plt.legend()\n",
    "    plt.show()\n",
    "plotSplit()"
   ]
  },
  {
   "cell_type": "markdown",
   "id": "1e1089a7",
   "metadata": {},
   "source": [
    "**Top/Bottom K grow/loss instruments**"
   ]
  },
  {
   "cell_type": "code",
   "execution_count": null,
   "id": "130612b1",
   "metadata": {},
   "outputs": [],
   "source": [
    "K = 10\n",
    "def DeltaRank():\n",
    "    gdList = []\n",
    "    for i in range(nInst):\n",
    "        diff = netPos[i]-netNeg[i]\n",
    "        delta = np.where(diff  > 0,1,0 ).sum()\n",
    "        gdList.append((i,delta))\n",
    "    gdList.sort(key=lambda x:x[1],reverse=True)\n",
    "    Ws = [i[0] for i in gdList[:K] ]\n",
    "    Ls = [ i[0] for i in gdList[-K:] ]\n",
    "    print(\"winners\",Ws)\n",
    "    print(\"losers\",Ls)\n",
    "DeltaRank()"
   ]
  }
 ],
 "metadata": {
  "kernelspec": {
   "display_name": "tf",
   "language": "python",
   "name": "python3"
  },
  "language_info": {
   "codemirror_mode": {
    "name": "ipython",
    "version": 3
   },
   "file_extension": ".py",
   "mimetype": "text/x-python",
   "name": "python",
   "nbconvert_exporter": "python",
   "pygments_lexer": "ipython3",
   "version": "3.11.6"
  }
 },
 "nbformat": 4,
 "nbformat_minor": 5
}
