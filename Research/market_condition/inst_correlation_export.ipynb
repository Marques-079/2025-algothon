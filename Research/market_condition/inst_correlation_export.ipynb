{
 "cells": [
  {
   "cell_type": "code",
   "execution_count": null,
   "id": "70e594e2",
   "metadata": {},
   "outputs": [],
   "source": [
    "from inst_correlation import loadPrices, average_windowed_correlation, compute_linkage_matrix, plot_dendrogram, get_clusters, plot_clustered_correlation_matrix, group_instruments_by_cluster\n",
    "\n",
    "import numpy as np\n",
    "import pandas as pd\n",
    "import matplotlib.pyplot as plt\n",
    "import math\n",
    "from scipy.stats import percentileofscore, pearsonr, spearmanr\n",
    "import seaborn as sns\n",
    "from statsmodels.stats.multitest import fdrcorrection\n",
    "from sklearn.metrics import mean_squared_error, mean_absolute_error, r2_score\n",
    "from statsmodels.tsa.stattools import grangercausalitytests, adfuller, coint\n",
    "from statsmodels.graphics.tsaplots import plot_acf\n",
    "from statsmodels.regression.linear_model import OLS\n",
    "from scipy.cluster.hierarchy import linkage, dendrogram, fcluster\n",
    "from scipy.spatial.distance import squareform\n",
    "from sklearn.decomposition import PCA\n",
    "import statsmodels.api as sm\n",
    "import os\n",
    "from matplotlib.cm import coolwarm, get_cmap\n",
    "from statsmodels.tools.tools import add_constant\n",
    "from matplotlib.colors import Normalize"
   ]
  },
  {
   "cell_type": "code",
   "execution_count": null,
   "id": "cc69f6d0",
   "metadata": {},
   "outputs": [],
   "source": [
    "### TO DEFINE VARIABLES ###\n",
    "correlation_timeframe = 7\n",
    "cluster_cutoff = 1.0\n",
    "plot_graphs = True\n",
    "negative_corr_pairs_included = False"
   ]
  },
  {
   "cell_type": "code",
   "execution_count": null,
   "id": "7e538019",
   "metadata": {},
   "outputs": [],
   "source": [
    "# import data\n",
    "(nt, nInst, prcAll) = loadPrices()\n",
    "prcTest = prcAll[:, :450]\n",
    "prcCheck = prcAll[:, 450:600]\n",
    "prcEval = prcAll[:, 600:]\n",
    "prcEvalPrev = prcAll\n",
    "prcCheckPrev = prcAll[:, :600]\n",
    "data_d = prcTest\n",
    "data = data_d"
   ]
  },
  {
   "cell_type": "code",
   "execution_count": null,
   "id": "782b5809",
   "metadata": {},
   "outputs": [],
   "source": [
    "# Step 1: Compute average rolling correlation matrix\n",
    "corr_matrix = average_windowed_correlation(data_d, window_size=correlation_timeframe, method='spearman')\n",
    "\n",
    "# Step 2: Perform hierarchical clustering + get clusters\n",
    "linkage_matrix = compute_linkage_matrix(corr_matrix, use_abs=negative_corr_pairs_included, method='ward')\n",
    "clusters = get_clusters(linkage_matrix, cutoff=cluster_cutoff)\n",
    "grouped_instruments = group_instruments_by_cluster(clusters)\n",
    "\n",
    "# Step 3: Plot graphs if desired\n",
    "if plot_graphs:\n",
    "    plot_dendrogram(linkage_matrix, cutoff=cluster_cutoff)\n",
    "    plot_clustered_correlation_matrix(corr_matrix, clusters)"
   ]
  },
  {
   "cell_type": "code",
   "execution_count": null,
   "id": "bbeacbd0",
   "metadata": {},
   "outputs": [],
   "source": [
    "# Example Exporting\n",
    "import pickle\n",
    "filename = \"correlated_groups.pkl\"\n",
    "\n",
    "data = {\n",
    "    'correlation_matrix': corr_matrix,\n",
    "    'grouped_instruments': grouped_instruments\n",
    "}\n",
    "with open(filename, 'wb') as f:\n",
    "    pickle.dump(data, f)"
   ]
  },
  {
   "cell_type": "code",
   "execution_count": null,
   "id": "38ca220b",
   "metadata": {},
   "outputs": [],
   "source": [
    "# Example Importing\n",
    "import pickle\n",
    "\n",
    "with open(filename, 'rb') as f:\n",
    "    data = pickle.load(f)\n",
    "\n",
    "corr_matrix, grouped_instruments = ['correlation_matrix'], data['grouped_instruments']"
   ]
  }
 ],
 "metadata": {
  "kernelspec": {
   "display_name": ".venv",
   "language": "python",
   "name": "python3"
  },
  "language_info": {
   "codemirror_mode": {
    "name": "ipython",
    "version": 3
   },
   "file_extension": ".py",
   "mimetype": "text/x-python",
   "name": "python",
   "nbconvert_exporter": "python",
   "pygments_lexer": "ipython3",
   "version": "3.12.0"
  }
 },
 "nbformat": 4,
 "nbformat_minor": 5
}
